{
 "cells": [
  {
   "cell_type": "markdown",
   "metadata": {},
   "source": [
    "Код по статье https://pdfs.semanticscholar.org/bb92/da93fb97510c00968255de7f872b8e99fba9.pdf"
   ]
  },
  {
   "cell_type": "code",
   "execution_count": 1,
   "metadata": {},
   "outputs": [],
   "source": [
    "import numpy as np\n",
    "import tensorflow as tf\n",
    "import pandas as pd\n",
    "import matplotlib.pylab as plt\n",
    "%matplotlib inline"
   ]
  },
  {
   "cell_type": "markdown",
   "metadata": {},
   "source": [
    "Считаем нулевой слой - самим признаковым пространством объекта.\n",
    "Т.е. у нас есть один скрытый слой с 5 нейронами и softmax-слой с 3 выходами\n",
    "\n",
    "Обрати внимание на переменную log_prior_initial_value.\n",
    "Это логарифм значения диагональных элементов ковариационной матрицы.\n",
    "\n",
    "В дальнейшем ковариация используется только в логарифмическом виде, т.к. при оптимизации этого параметра \n",
    "\"в тупую\", без логарифма градиент достаточно неустойчивый и может произойти переполнение и выход в NaN.\n",
    "\n",
    "Evidence полагается на распределение параметров, для каждого шага оптимизации полагается сэмплировать параметры.\n",
    "При оптимизации гиперпараметров, шум, который возникает при сэмплировании, может сильно замедлить процесс оптимизации (в то же время, совсем выключать его некорректно по определению Evidence).\n",
    "Поэтому во время оптимизации гиперпараметров предлагается запускать порождать несколько векторов параметров и усреднять их результат. За количество сэмплов отвечает переменная validation_sample_num\n",
    "\n",
    "Для оптимизации гиперпараметров используется градиентный спуск с шагом hyper_learning_rate. \n"
   ]
  },
  {
   "cell_type": "code",
   "execution_count": 3,
   "metadata": {},
   "outputs": [],
   "source": [
    "batch_size = 20\n",
    "layers = [13, 5, 3] # layer 0  = X matrix\n",
    "iter_num = 4000\n",
    "learning_rate = 0.5\n",
    "log_prior_initial_value = 0.0\n",
    "validation_sample_num = 5\n",
    "hyper_learning_rate= 10**(-2)"
   ]
  },
  {
   "cell_type": "code",
   "execution_count": 4,
   "metadata": {},
   "outputs": [
    {
     "name": "stdout",
     "output_type": "stream",
     "text": [
      "(144, 13) (34, 13)\n"
     ]
    }
   ],
   "source": [
    "train = pd.read_csv( \"train.csv\")\n",
    "del train['Unnamed: 0']\n",
    "count_of_train_data = len(train)\n",
    "\n",
    "\n",
    "test = pd.read_csv(  \"test.csv\")\n",
    "del test['Unnamed: 0']\n",
    "\n",
    "Ytrain = train['Type'].as_matrix()\n",
    "Ytrain.reshape([-1])\n",
    "del train['Type']\n",
    "Xtrain = train.as_matrix()\n",
    "\n",
    "Ytest = test['Type'].as_matrix()\n",
    "Ytest.reshape([-1])\n",
    "del test['Type']\n",
    "Xtest = test.as_matrix()\n",
    "print Xtrain.shape, Xtest.shape"
   ]
  },
  {
   "cell_type": "markdown",
   "metadata": {},
   "source": [
    "объявление переменных.\n",
    "У нас есть две переменные, отвечающие за вариационное распределение Q:\n",
    "params_mean и log_params_sigma, среднее и отклонение параметров соответственно.\n",
    "\n",
    "Вектора из params_noises --- просто гауссовый шум\n",
    "\n",
    "Также я добавил переменную Noise_on, т.к. при подсчете accuracy имеет смысл выключать шум и учитывать только среднее значение параметров."
   ]
  },
  {
   "cell_type": "code",
   "execution_count": 5,
   "metadata": {},
   "outputs": [],
   "source": [
    "X = tf.placeholder(tf.float64, [None, Xtrain.shape[1]])\n",
    "Y = tf.placeholder(tf.int32, [None])\n",
    "Noise_on = tf.placeholder(tf.float64, [])\n",
    "\n",
    "param_num = sum([layers[i]*layers[i+1] for i in xrange(0,len(layers)-1)]) + sum(layers[1:]) # Matrices + Biases\n",
    "\n",
    "params_mean = tf.Variable(np.random.rand(param_num)*0.01, dtype=tf.float64, name=\"mean\")\n",
    "log_params_sigma = tf.Variable(np.ones(param_num)*0.01, dtype=tf.float64, name=\"sigma\")\n",
    "params_noises = []\n",
    "for _ in xrange(validation_sample_num):\n",
    "    noise = tf.random_normal([param_num], dtype=tf.float64) \n",
    "    #\n",
    "    params_noises.append(noise)\n",
    "    \n",
    "log_prior_diagonal =  tf.Variable(np.ones(param_num)*log_prior_initial_value, dtype=tf.float64,name='log_prior')\n"
   ]
  },
  {
   "cell_type": "markdown",
   "metadata": {},
   "source": [
    "Послойное построение модели.\n",
    "Вынесено как функция, возвращающая выход модели и softmax-правдоподобие.\n"
   ]
  },
  {
   "cell_type": "code",
   "execution_count": 6,
   "metadata": {},
   "outputs": [],
   "source": [
    "def build(noise_id=0, x_tensor=X,y_tensor=Y, means=params_mean, log_sigmas=log_params_sigma):\n",
    "    noise = params_noises[noise_id]\n",
    "    params_noisy = means +  tf.scalar_mul(Noise_on,  tf.multiply(noise, tf.exp(log_sigmas)))\n",
    "    \n",
    "    current_layer = x_tensor\n",
    "    matrix_offset = 0\n",
    "    bias_offset = sum([layers[i]*layers[i+1] for i in xrange(0,len(layers)-1)])\n",
    "    for layer_id in xrange(len(layers)-1):\n",
    "\n",
    "        activation = tf.sigmoid if layer_id < len(layers)-2 else lambda x: x\n",
    "        matrix_params = tf.reshape(params_noisy[matrix_offset:matrix_offset + layers[layer_id]*layers[layer_id+1]],\n",
    "                                   (layers[layer_id], layers[layer_id+1]))\n",
    "        bias_params = params_noisy[bias_offset:bias_offset + layers[layer_id+1]]\n",
    "\n",
    "        matrix_offset+=layers[layer_id]*layers[layer_id+1]\n",
    "        bias_offset+=layers[layer_id+1]\n",
    "        current_layer = activation(tf.matmul(current_layer,matrix_params)+bias_params)\n",
    "    softmax_loss =  tf.reduce_mean(tf.losses.sparse_softmax_cross_entropy(labels=y_tensor, logits=current_layer))*Xtrain.shape[0]\n",
    "    return current_layer, softmax_loss\n",
    "\n",
    "network_last_layer, parameters_train_softmax_loss = build()\n",
    "predict = tf.argmax(network_last_layer, axis=1)\n"
   ]
  },
  {
   "cell_type": "markdown",
   "metadata": {},
   "source": [
    "Для подсчета D_KL имеет смысл использовать стандартную формулу, которая дана в википедии.\n",
    "https://en.wikipedia.org/wiki/Kullback%E2%80%93Leibler_divergence#Multivariate_normal_distributions\n",
    "\n",
    "Функция потерь состоит из двух слагаемых, первое из которых расчитывается (всегда!) для выборки фиксированного размера. Чтобы использовать мини-батчи нужно взять среднее от софтмакса и домножить на размер выборки.\n",
    "\n",
    "Таким образом, порядок величины будет всегда постоянным вне зависимости от размера батча, и будет корректно соотноситься с размером D_KL.\n",
    "\n",
    "norm_loss --- номировка функции, независимая от размера выборки. Удобна для подбора learning rate."
   ]
  },
  {
   "cell_type": "code",
   "execution_count": 7,
   "metadata": {},
   "outputs": [],
   "source": [
    "D_KL_part0 = tf.reduce_sum(tf.exp(2*log_params_sigma-2*log_prior_diagonal))\n",
    "D_KL_part1 = tf.reduce_sum(tf.multiply(params_mean/tf.exp(2*log_prior_diagonal), (params_mean)))\n",
    "D_KL_part2 = -param_num\n",
    "D_KL_part3 = 2*tf.reduce_sum(log_prior_diagonal) - 2*tf.reduce_sum(log_params_sigma)\n",
    "D_KL = 0.5*(D_KL_part0+D_KL_part1+D_KL_part2+D_KL_part3)\n",
    "loss =parameters_train_softmax_loss+D_KL\n",
    "norm_loss = loss/Xtrain.shape[0]"
   ]
  },
  {
   "cell_type": "code",
   "execution_count": 8,
   "metadata": {},
   "outputs": [],
   "source": [
    "optimizer = tf.train.GradientDescentOptimizer(learning_rate).minimize(norm_loss, var_list=[params_mean, log_params_sigma])"
   ]
  },
  {
   "cell_type": "markdown",
   "metadata": {},
   "source": [
    "Идея оптимизации гиперпараметров изложена в \n",
    "https://arxiv.org/pdf/1511.06727.pdf\n",
    "\n",
    "Пусть $L$ --- функция потерь, $\\mathbf{w}$ --- параметры, $\\mathbf{h}$ --- гиперпараметры, $\\gamma$ --- длина шага оптимизации,  $\\gamma'$ --- длина шага оптимизации гиперпараметров.\n",
    "\n",
    "1. Считаем градиенты $\\nabla_\\mathbf{w} L(\\mathbf{w})$  (в коде: grads)\n",
    "2. Получаем предсказание новых параметров (оптимизацию мы еще не провели): $\\mathbf{w}' =\\mathbf{w} - \\gamma  \\nabla_\\mathbf{w} L(\\mathbf{w})$ (в коде: new_means, new_sigmas)\n",
    "3. Вычисляем значение функции потерь на предсказанных параметрах   L(\\mathbf{w}') (в коде: full_hyperparameter_optimization_loss)\n",
    "4. Вычисляем градиент гиперпараметров по предсказанным параметрам: $\\mathbf{h}' =\\mathbf{h} - \\gamma  \\nabla_\\mathbf{h} L(\\mathbf{w}')$  (в коде: hyperoptimizer)\n",
    "\n",
    "Как можно видеть, такая оптимизация получается достаточно \"жадной\", т.к. смотрит на один шаг оптимизации вперед. Тем не менее, она показывает достаточно хорошее качество, и не очень сильно тормозит (в сравнении с другими градиентными методами).\n",
    "\n",
    "Тут надо заметить, что в общем случае оптимизации параметров и гиперпараметров на одной выборке и одной функции $L$ является некорректной, т.к. ведет к переобучению. Но конкретно Evidence --- показатель сложности из байесовского вывода, которая как раз должна контролировать переобучение и (в теории), оптимизация гиперпараметров таким способом не должна вести к переобучению."
   ]
  },
  {
   "cell_type": "code",
   "execution_count": 9,
   "metadata": {},
   "outputs": [],
   "source": [
    "train_optimization_loses =[]\n",
    "for noise_id in xrange((validation_sample_num)):\n",
    "    _, softmax_loss = build(noise_id=noise_id)\n",
    "    train_optimization_loses.append(softmax_loss)\n",
    "\n",
    "full_train_optimization_loss = (tf.reduce_mean(train_optimization_loses) + D_KL)/Xtrain.shape[0]\n",
    "grads = tf.gradients(full_train_optimization_loss, [params_mean, log_params_sigma])\n",
    "new_means =params_mean -  tf.scalar_mul(learning_rate,grads[0])\n",
    "new_sigmas =log_params_sigma -   tf.scalar_mul(learning_rate,grads[1])\n",
    "\n",
    "expected_losses_after_training_step = []\n",
    "for noise_id in xrange((validation_sample_num)):\n",
    "    _, softmax_loss = build(noise_id=noise_id, log_sigmas=new_sigmas, means=new_means)\n",
    "    expected_losses_after_training_step.append(softmax_loss/Xtrain.shape[0])\n",
    "    \n",
    "full_hyperparameter_optimization_loss = tf.reduce_mean(expected_losses_after_training_step) + D_KL/Xtrain.shape[0]\n",
    "hyperoptimizer = tf.train.GradientDescentOptimizer(hyper_learning_rate).minimize(full_hyperparameter_optimization_loss, var_list=[log_prior_diagonal])"
   ]
  },
  {
   "cell_type": "markdown",
   "metadata": {},
   "source": [
    "Оптимизация. \n",
    "Идет значительно дольше, чем обычно из-за оптимизации гиперпараметров. \n",
    "По идее, можно проводить оптимизацию гиперпараметров не каждый шаг, а каждый K-й шаг.\n",
    "\n",
    "Значение функции ошибки доходит где-то до 0.3, без оптимизации гиперпараметров до 0.6\n"
   ]
  },
  {
   "cell_type": "code",
   "execution_count": 10,
   "metadata": {},
   "outputs": [
    {
     "name": "stdout",
     "output_type": "stream",
     "text": [
      "Current Negative Evidence Value 1.9481839688009879\n",
      "Current Negative Evidence Value 0.7557273646058338\n",
      "Current Negative Evidence Value 0.5411230352330353\n",
      "Current Negative Evidence Value 0.48835753615763333\n",
      "Current Negative Evidence Value 0.4922345225921691\n",
      "Current Negative Evidence Value 0.4337001289945601\n",
      "Current Negative Evidence Value 0.5557949168636\n",
      "Current Negative Evidence Value 0.4591456285593813\n",
      "Current Negative Evidence Value 0.6194664437487163\n",
      "Current Negative Evidence Value 0.44692480876485174\n",
      "Current Negative Evidence Value 0.45194904770795585\n",
      "Current Negative Evidence Value 0.46458310893187993\n",
      "Current Negative Evidence Value 0.4524801203708402\n",
      "Current Negative Evidence Value 0.4110467912262881\n",
      "Current Negative Evidence Value 0.42566251937192207\n",
      "Current Negative Evidence Value 0.4047440569915696\n",
      "Current Negative Evidence Value 0.4484063962006244\n",
      "Current Negative Evidence Value 0.4748197014640283\n",
      "Current Negative Evidence Value 0.3993890475697701\n",
      "Current Negative Evidence Value 0.43409183854742406\n",
      "Current Negative Evidence Value 0.36132310104639287\n",
      "Current Negative Evidence Value 0.4518098857509756\n",
      "Current Negative Evidence Value 0.3575035754425884\n",
      "Current Negative Evidence Value 0.3584320970458379\n",
      "Current Negative Evidence Value 0.336480683984232\n",
      "Current Negative Evidence Value 0.42967149194708365\n",
      "Current Negative Evidence Value 0.31995720594307653\n",
      "Current Negative Evidence Value 0.32445554573840696\n",
      "Current Negative Evidence Value 0.3547655206839811\n",
      "Current Negative Evidence Value 0.32579461605925014\n",
      "Current Negative Evidence Value 0.4123480957580356\n",
      "Current Negative Evidence Value 0.4025577677936761\n",
      "Current Negative Evidence Value 0.48008196455251134\n",
      "Current Negative Evidence Value 0.3709500833992764\n",
      "Current Negative Evidence Value 0.34034049379865766\n",
      "Current Negative Evidence Value 0.3291761494052888\n",
      "Current Negative Evidence Value 0.31070423938869457\n",
      "Current Negative Evidence Value 0.41121151658466243\n",
      "Current Negative Evidence Value 0.30043910024992343\n",
      "Current Negative Evidence Value 0.30859567535557386\n"
     ]
    }
   ],
   "source": [
    "indices = np.arange(Xtrain.shape[0])\n",
    "sess = tf.InteractiveSession()\n",
    "tf.global_variables_initializer().run()\n",
    "# Train\n",
    "for iter_id in range(iter_num):\n",
    "    \n",
    "    np.random.shuffle(indices)\n",
    "    batch_xs, batch_ys = Xtrain[indices[:batch_size]], Ytrain[indices[:batch_size]]\n",
    "    sess.run(optimizer, feed_dict={X: batch_xs, Y: batch_ys, Noise_on:1.0})\n",
    "    sess.run(hyperoptimizer, feed_dict={X: batch_xs, Y: batch_ys, Noise_on:1.0})\n",
    "    if iter_id %100 ==0:\n",
    "        print 'Current Negative Evidence Value', sess.run(full_train_optimization_loss, feed_dict={X: batch_xs, Y: batch_ys, Noise_on:1.0})\n",
    "        "
   ]
  },
  {
   "cell_type": "code",
   "execution_count": 11,
   "metadata": {},
   "outputs": [
    {
     "name": "stdout",
     "output_type": "stream",
     "text": [
      "[ 0.4509462   0.01296022  0.08429638 -0.08091552  0.09055842 -0.14402647\n",
      " -0.01456625 -0.10137628 -0.10559321 -0.06692522  0.2066911  -0.00784687\n",
      " -0.06007069 -0.11388554 -0.03169651 -0.01506439 -0.01697802  0.09204491\n",
      " -0.02108706  0.0640696  -0.19930579 -0.02369662 -0.06997823 -0.08355656\n",
      " -0.05125187 -0.19653902 -0.02423523 -0.00906923  0.00270837 -0.00625812\n",
      " -0.06144586  0.01673632  0.12002873  0.25201568  0.06263161 -0.20595645\n",
      " -0.03814632 -0.07983597 -0.06905319 -0.06434454 -0.11983108 -0.00813991\n",
      " -0.08101347 -0.0508759  -0.05239741  0.32555478  0.03759225 -0.09361003\n",
      "  0.04706109 -0.04736552  0.30055063  0.04189746 -0.06410321  0.11112653\n",
      " -0.04687927 -0.18841861  0.01526692  0.09517976  0.23541169  0.05291239\n",
      "  0.50607412 -0.01085597  0.29465138 -0.01775956  0.18549391  0.08066453\n",
      "  1.44665529  0.23569962 -0.16246324 -0.10662447 -0.04578853  0.57052132\n",
      " -0.07764675  0.04079004  0.3718553  -0.151086    0.80460069  0.23295472\n",
      " -0.08558622 -0.06288857  0.13552853 -0.02228213 -0.03952764 -0.04275452\n",
      " -0.03584301 -0.1729281  -0.15737071 -0.16848214]\n"
     ]
    }
   ],
   "source": [
    "print log_prior_diagonal.eval()"
   ]
  },
  {
   "cell_type": "code",
   "execution_count": 12,
   "metadata": {},
   "outputs": [
    {
     "name": "stdout",
     "output_type": "stream",
     "text": [
      "Accuracy:train 1.0\n",
      "Accuracy:test 0.9705882352941176\n"
     ]
    }
   ],
   "source": [
    "predicted_train = sess.run(predict, feed_dict={X:Xtrain, Noise_on:0.0}) \n",
    "predicted_test = sess.run(predict, feed_dict={X:Xtest, Noise_on:0.0}) \n",
    "print 'Accuracy:train', np.mean(np.equal(predicted_train, Ytrain))\n",
    "print 'Accuracy:test', np.mean(np.equal(predicted_test, Ytest))"
   ]
  },
  {
   "cell_type": "markdown",
   "metadata": {},
   "source": [
    "Сортируем по $\\lambda$ и удаляем наименьшие"
   ]
  },
  {
   "cell_type": "code",
   "execution_count": 13,
   "metadata": {},
   "outputs": [],
   "source": [
    "lambdas = np.argsort(np.abs( params_mean.eval()/np.exp(log_params_sigma.eval())))"
   ]
  },
  {
   "cell_type": "code",
   "execution_count": 14,
   "metadata": {},
   "outputs": [],
   "source": [
    "acc_train = []\n",
    "acc_test = []\n",
    "for percent in xrange(0, 101, 5):\n",
    "    _params = params_mean.eval()\n",
    "    null_count = len(_params)*percent/100\n",
    "    _params[lambdas[:null_count]] = 0\n",
    "    sess.run(params_mean.assign(_params))\n",
    "    acc_train.append( np.mean(np.equal(Ytrain, sess.run(predict, feed_dict={X:Xtrain, Noise_on:0.0}) )))\n",
    "    acc_test.append( np.mean(np.equal(Ytest, sess.run(predict, feed_dict={X:Xtest, Noise_on:0.0}) )))"
   ]
  },
  {
   "cell_type": "code",
   "execution_count": 15,
   "metadata": {},
   "outputs": [
    {
     "data": {
      "image/png": "[encoded data removed]",
      "text/plain": [
       "<Figure size 720x360 with 1 Axes>"
      ]
     },
     "metadata": {},
     "output_type": "display_data"
    }
   ],
   "source": [
    "plt.rcParams['figure.figsize'] = (10,5)\n",
    "plt.rcParams['font.size'] = 15\n",
    "plt.plot(range(0, 101, 5), acc_train, label='Train')\n",
    "plt.plot(range(0, 101, 5),acc_test, label='Test')\n",
    "plt.legend(loc='best')\n",
    "plt.xlabel('% of deleted params')\n",
    "_= plt.ylabel('Accuracy')"
   ]
  },
  {
   "cell_type": "code",
   "execution_count": null,
   "metadata": {},
   "outputs": [],
   "source": []
  }
 ],
 "metadata": {
  "kernelspec": {
   "display_name": "Python 2",
   "language": "python",
   "name": "python2"
  },
  "language_info": {
   "codemirror_mode": {
    "name": "ipython",
    "version": 2
   },
   "file_extension": ".py",
   "mimetype": "text/x-python",
   "name": "python",
   "nbconvert_exporter": "python",
   "pygments_lexer": "ipython2",
   "version": "2.7.12"
  }
 },
 "nbformat": 4,
 "nbformat_minor": 2
}
